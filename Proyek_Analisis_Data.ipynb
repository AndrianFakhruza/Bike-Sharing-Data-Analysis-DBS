{
  "cells": [
    {
      "cell_type": "markdown",
      "metadata": {
        "id": "view-in-github",
        "colab_type": "text"
      },
      "source": [
        "<a href=\"https://colab.research.google.com/github/AndrianFakhruza/Bike-Sharing-Data-Analysis-DBS/blob/main/Proyek_Analisis_Data.ipynb\" target=\"_parent\"><img src=\"https://colab.research.google.com/assets/colab-badge.svg\" alt=\"Open In Colab\"/></a>"
      ]
    },
    {
      "cell_type": "markdown",
      "metadata": {
        "id": "H9wADwK78DCz"
      },
      "source": [
        "# Proyek Analisis Data: [Bike Sharing Dataset]\n",
        "- **Nama:** [Andrian Fakhruza]\n",
        "- **Email:** [fakhruzaandrian561@gmail.com]\n",
        "- **ID Dicoding:** [MC130D5Y0183]"
      ]
    },
    {
      "cell_type": "markdown",
      "metadata": {
        "id": "eE0raob58DC0"
      },
      "source": [
        "## Menentukan Pertanyaan Bisnis"
      ]
    },
    {
      "cell_type": "markdown",
      "metadata": {
        "id": "GmQeQ5YF8DC0"
      },
      "source": [
        "- Bagaimana pola penggunaan sepeda berdasarkan musim?\n",
        "- Seberapa besar pengaruh kecepatan angin terhadap jumlah penyewaan sepeda?"
      ]
    },
    {
      "cell_type": "markdown",
      "metadata": {
        "id": "H-z4QGlO8DC1"
      },
      "source": [
        "## Import Semua Packages/Library yang Digunakan"
      ]
    },
    {
      "cell_type": "code",
      "execution_count": 3,
      "metadata": {
        "id": "FVYwaObI8DC1"
      },
      "outputs": [],
      "source": [
        "import streamlit as st\n",
        "import numpy as np\n",
        "import pandas as pd\n",
        "import matplotlib\n",
        "matplotlib.use('Agg')\n",
        "import matplotlib.pyplot as plt\n",
        "import seaborn as sns\n",
        "import os"
      ]
    },
    {
      "cell_type": "markdown",
      "metadata": {
        "id": "h_Sh51Xy8DC1"
      },
      "source": [
        "## Data Wrangling"
      ]
    },
    {
      "cell_type": "markdown",
      "metadata": {
        "id": "sXU2GBYu8DC1"
      },
      "source": [
        "### Gathering Data"
      ]
    },
    {
      "cell_type": "code",
      "execution_count": 8,
      "metadata": {
        "id": "zjCBk1BI8DC1"
      },
      "outputs": [],
      "source": [
        "def load_data():\n",
        "    base_path = \"/content\"\n",
        "    day_df = pd.read_csv(os.path.join(base_path, \"day.csv\"))\n",
        "    hour_df = pd.read_csv(os.path.join(base_path, \"hour.csv\"))\n",
        "\n",
        "    for df in [day_df, hour_df]:\n",
        "        df.drop(['workingday'], axis=1, inplace=True)\n",
        "\n",
        "    kategori_kolom = ['season', 'mnth', 'holiday', 'weekday', 'weathersit']\n",
        "    for df in [day_df, hour_df]:\n",
        "        for col in kategori_kolom:\n",
        "            df[col] = df[col].astype(\"category\")\n",
        "\n",
        "    for df in [day_df, hour_df]:\n",
        "        df['dteday'] = pd.to_datetime(df['dteday'])\n",
        "\n",
        "    return day_df, hour_df\n",
        "\n",
        "day_df, hour_df = load_data()"
      ]
    },
    {
      "cell_type": "markdown",
      "source": [
        "**Insight:**\n",
        "- Menghapus workingday untuk mengurangi redundansi dalam dataset\n",
        "- Memastikan analisis lebih fokus pada variabel yang lebih signifikan"
      ],
      "metadata": {
        "id": "MMi6xGaDkbCi"
      }
    },
    {
      "cell_type": "markdown",
      "metadata": {
        "id": "FHSiqaZp8DC1"
      },
      "source": [
        "### Assessing Data"
      ]
    },
    {
      "cell_type": "code",
      "source": [
        "print(day_df.info())\n",
        "print(hour_df.info())"
      ],
      "metadata": {
        "id": "ax-3tEjc9Cj1",
        "outputId": "022144b8-1c65-4d7b-9e9a-30e17dd6efd2",
        "colab": {
          "base_uri": "https://localhost:8080/"
        }
      },
      "execution_count": 9,
      "outputs": [
        {
          "output_type": "stream",
          "name": "stdout",
          "text": [
            "<class 'pandas.core.frame.DataFrame'>\n",
            "RangeIndex: 731 entries, 0 to 730\n",
            "Data columns (total 15 columns):\n",
            " #   Column      Non-Null Count  Dtype         \n",
            "---  ------      --------------  -----         \n",
            " 0   instant     731 non-null    int64         \n",
            " 1   dteday      731 non-null    datetime64[ns]\n",
            " 2   season      731 non-null    category      \n",
            " 3   yr          731 non-null    int64         \n",
            " 4   mnth        731 non-null    category      \n",
            " 5   holiday     731 non-null    category      \n",
            " 6   weekday     731 non-null    category      \n",
            " 7   weathersit  731 non-null    category      \n",
            " 8   temp        731 non-null    float64       \n",
            " 9   atemp       731 non-null    float64       \n",
            " 10  hum         731 non-null    float64       \n",
            " 11  windspeed   731 non-null    float64       \n",
            " 12  casual      731 non-null    int64         \n",
            " 13  registered  731 non-null    int64         \n",
            " 14  cnt         731 non-null    int64         \n",
            "dtypes: category(5), datetime64[ns](1), float64(4), int64(5)\n",
            "memory usage: 62.0 KB\n",
            "None\n",
            "<class 'pandas.core.frame.DataFrame'>\n",
            "RangeIndex: 17379 entries, 0 to 17378\n",
            "Data columns (total 16 columns):\n",
            " #   Column      Non-Null Count  Dtype         \n",
            "---  ------      --------------  -----         \n",
            " 0   instant     17379 non-null  int64         \n",
            " 1   dteday      17379 non-null  datetime64[ns]\n",
            " 2   season      17379 non-null  category      \n",
            " 3   yr          17379 non-null  int64         \n",
            " 4   mnth        17379 non-null  category      \n",
            " 5   hr          17379 non-null  int64         \n",
            " 6   holiday     17379 non-null  category      \n",
            " 7   weekday     17379 non-null  category      \n",
            " 8   weathersit  17379 non-null  category      \n",
            " 9   temp        17379 non-null  float64       \n",
            " 10  atemp       17379 non-null  float64       \n",
            " 11  hum         17379 non-null  float64       \n",
            " 12  windspeed   17379 non-null  float64       \n",
            " 13  casual      17379 non-null  int64         \n",
            " 14  registered  17379 non-null  int64         \n",
            " 15  cnt         17379 non-null  int64         \n",
            "dtypes: category(5), datetime64[ns](1), float64(4), int64(6)\n",
            "memory usage: 1.5 MB\n",
            "None\n"
          ]
        }
      ]
    },
    {
      "cell_type": "markdown",
      "source": [
        "**Insight:**\n",
        "- Tipe data sudah sesuai dengan kebutuhan analisis\n",
        "- Tidak ditemukan missing values"
      ],
      "metadata": {
        "id": "7dtxhAPrkhPL"
      }
    },
    {
      "cell_type": "markdown",
      "metadata": {
        "id": "EhN5R4hr8DC1"
      },
      "source": [
        "### Cleaning Data"
      ]
    },
    {
      "cell_type": "code",
      "source": [
        "rename_dict = {\n",
        "    'yr': 'year',\n",
        "    'mnth': 'month',\n",
        "    'weekday': 'day_of_week',\n",
        "    'weathersit': 'weather_situation',\n",
        "    'windspeed': 'wind_speed',\n",
        "    'cnt': 'total_rentals',\n",
        "    'hum': 'humidity'\n",
        "}\n",
        "day_df.rename(columns=rename_dict, inplace=True)\n",
        "hour_df.rename(columns={**rename_dict, 'hr': 'hour'}, inplace=True)"
      ],
      "metadata": {
        "id": "jVnYpprE9Evz"
      },
      "execution_count": 10,
      "outputs": []
    },
    {
      "cell_type": "markdown",
      "source": [
        "**Insight:**\n",
        "- Standarisasi nama kolom agar lebih mudah dipahami dan digunakan dalam analisis\n",
        "- Mempermudah proses eksplorasi serta interpretasi data untuk mendapatkan insight lebih jelas"
      ],
      "metadata": {
        "id": "Q_5ejIqckiSP"
      }
    },
    {
      "cell_type": "markdown",
      "metadata": {
        "id": "gp-Y6wU38DC1"
      },
      "source": [
        "## Exploratory Data Analysis (EDA)"
      ]
    },
    {
      "cell_type": "markdown",
      "metadata": {
        "id": "MW7WF2kr8DC1"
      },
      "source": [
        "### Explore ..."
      ]
    },
    {
      "cell_type": "code",
      "execution_count": 25,
      "metadata": {
        "id": "e9CQCZjk8DC2",
        "outputId": "823451e6-85bd-4814-a790-37c20f500b28",
        "colab": {
          "base_uri": "https://localhost:8080/"
        }
      },
      "outputs": [
        {
          "output_type": "stream",
          "name": "stderr",
          "text": [
            "2025-03-10 04:15:33.799 Thread 'MainThread': missing ScriptRunContext! This warning can be ignored when running in bare mode.\n",
            "2025-03-10 04:15:34.076 Thread 'MainThread': missing ScriptRunContext! This warning can be ignored when running in bare mode.\n",
            "2025-03-10 04:15:34.078 Thread 'MainThread': missing ScriptRunContext! This warning can be ignored when running in bare mode.\n",
            "2025-03-10 04:15:34.143 Thread 'MainThread': missing ScriptRunContext! This warning can be ignored when running in bare mode.\n",
            "2025-03-10 04:15:34.692 Thread 'MainThread': missing ScriptRunContext! This warning can be ignored when running in bare mode.\n",
            "2025-03-10 04:15:34.693 Thread 'MainThread': missing ScriptRunContext! This warning can be ignored when running in bare mode.\n"
          ]
        },
        {
          "output_type": "execute_result",
          "data": {
            "text/plain": [
              "DeltaGenerator()"
            ]
          },
          "metadata": {},
          "execution_count": 25
        }
      ],
      "source": [
        "day_df = pd.read_csv(\"day.csv\")\n",
        "hour_df = pd.read_csv(\"hour.csv\")\n",
        "\n",
        "day_df[\"dteday\"] = pd.to_datetime(day_df[\"dteday\"])\n",
        "\n",
        "season_count = day_df.groupby(\"season\")[\"cnt\"].sum().reset_index()\n",
        "\n",
        "fig1, ax1 = plt.subplots(figsize=(8, 5))\n",
        "sns.barplot(x=\"season\", y=\"cnt\", hue=\"season\", data=season_count, ax=ax1, palette=\"coolwarm\", legend=False)\n",
        "ax1.set_xticks([0, 1, 2, 3])\n",
        "ax1.set_xticklabels([\"Spring\", \"Summer\", \"Fall\", \"Winter\"])\n",
        "ax1.set_xlabel(\"Musim\")\n",
        "ax1.set_ylabel(\"Jumlah Penyewaan\")\n",
        "ax1.set_title(\"Pola Penggunaan Sepeda Berdasarkan Musim\")\n",
        "st.pyplot(fig1)\n",
        "\n",
        "fig2, ax2 = plt.subplots(figsize=(8, 5))\n",
        "sns.scatterplot(x=\"windspeed\", y=\"cnt\", data=hour_df, alpha=0.5, color=\"blue\")\n",
        "ax2.set_xlabel(\"Kecepatan Angin\")\n",
        "ax2.set_ylabel(\"Jumlah Penyewaan\")\n",
        "ax2.set_title(\"Pengaruh Kecepatan Angin terhadap Jumlah Penyewaan Sepeda\")\n",
        "st.pyplot(fig2)"
      ]
    },
    {
      "cell_type": "markdown",
      "source": [
        "**Insight:**\n",
        "- Penyewaan sepeda tertinggi terjadi di musim tertentu\n",
        "- Kecepatan angin berpotensi mempengaruhi jumlah penyewaan"
      ],
      "metadata": {
        "id": "th_Lzl2Fkj9O"
      }
    },
    {
      "cell_type": "markdown",
      "metadata": {
        "id": "zsyZjqak8DC2"
      },
      "source": [
        "## Visualization & Explanatory Analysis"
      ]
    },
    {
      "cell_type": "markdown",
      "metadata": {
        "id": "HZxOiQ6n8DC2"
      },
      "source": [
        "### Pertanyaan 1: Bagaimana pola penggunaan sepeda berdasarkan musim?"
      ]
    },
    {
      "cell_type": "code",
      "execution_count": 17,
      "metadata": {
        "id": "1swJUdAD8DC2",
        "outputId": "3a61e07a-6087-497f-d8e5-7180570fb1fc",
        "colab": {
          "base_uri": "https://localhost:8080/"
        }
      },
      "outputs": [
        {
          "output_type": "stream",
          "name": "stderr",
          "text": [
            "2025-03-10 04:02:07.584 Thread 'MainThread': missing ScriptRunContext! This warning can be ignored when running in bare mode.\n",
            "2025-03-10 04:02:07.753 Thread 'MainThread': missing ScriptRunContext! This warning can be ignored when running in bare mode.\n",
            "2025-03-10 04:02:07.753 Thread 'MainThread': missing ScriptRunContext! This warning can be ignored when running in bare mode.\n"
          ]
        },
        {
          "output_type": "execute_result",
          "data": {
            "text/plain": [
              "DeltaGenerator()"
            ]
          },
          "metadata": {},
          "execution_count": 17
        }
      ],
      "source": [
        "seasonal_count = day_df.groupby('season', observed=False)['total_rentals'].sum().reset_index()\n",
        "\n",
        "fig, ax = plt.subplots(figsize=(8, 5))\n",
        "sns.barplot(x='season', y='total_rentals', hue='season', data=seasonal_count, ax=ax, palette='coolwarm', legend=False)\n",
        "\n",
        "ax.set_xlabel(\"Musim\")\n",
        "ax.set_ylabel(\"Total Penyewaan Sepeda\")\n",
        "\n",
        "st.pyplot(fig)"
      ]
    },
    {
      "cell_type": "markdown",
      "metadata": {
        "id": "DgHI7CiU8DC2"
      },
      "source": [
        "### Pertanyaan 2: Seberapa besar pengaruh kecepatan angin terhadap jumlah penyewaan sepeda?"
      ]
    },
    {
      "cell_type": "code",
      "execution_count": 18,
      "metadata": {
        "id": "Go0lCsvO8DC2",
        "outputId": "103b3583-2683-4914-d416-79c7e2269ba2",
        "colab": {
          "base_uri": "https://localhost:8080/"
        }
      },
      "outputs": [
        {
          "output_type": "stream",
          "name": "stderr",
          "text": [
            "2025-03-10 04:03:31.389 Thread 'MainThread': missing ScriptRunContext! This warning can be ignored when running in bare mode.\n",
            "2025-03-10 04:03:31.629 Thread 'MainThread': missing ScriptRunContext! This warning can be ignored when running in bare mode.\n",
            "2025-03-10 04:03:31.630 Thread 'MainThread': missing ScriptRunContext! This warning can be ignored when running in bare mode.\n"
          ]
        },
        {
          "output_type": "execute_result",
          "data": {
            "text/plain": [
              "DeltaGenerator()"
            ]
          },
          "metadata": {},
          "execution_count": 18
        }
      ],
      "source": [
        "fig, ax = plt.subplots(figsize=(8, 5))\n",
        "sns.scatterplot(x='wind_speed', y='total_rentals', data=day_df, alpha=0.5)\n",
        "ax.set_xlabel(\"Kecepatan Angin\")\n",
        "ax.set_ylabel(\"Total Penyewaan Sepeda\")\n",
        "st.pyplot(fig)"
      ]
    },
    {
      "cell_type": "markdown",
      "source": [
        "**Insight:**\n",
        "- Jumlah penyewaan sepeda meningkat pada musim tertentu dibandingkan lainnya\n",
        "- Pergantian musim berpengaruh signifikan terhadap tren penyewaan sepeda"
      ],
      "metadata": {
        "id": "_0-36BDLklRg"
      }
    },
    {
      "cell_type": "markdown",
      "source": [
        "## Analisis Lanjutan (Opsional)"
      ],
      "metadata": {
        "id": "9y4VUsmcYNZ5"
      }
    },
    {
      "cell_type": "code",
      "source": [],
      "metadata": {
        "id": "iWhnzsJGYUCO"
      },
      "execution_count": null,
      "outputs": []
    },
    {
      "cell_type": "markdown",
      "metadata": {
        "id": "_WeHlCeX8DC2"
      },
      "source": [
        "## Conclusion"
      ]
    },
    {
      "cell_type": "markdown",
      "metadata": {
        "id": "ZTcyR48Y8DC2"
      },
      "source": [
        "- Jumlah penyewaan sepeda bervariasi di setiap musim, dengan lonjakan signifikan pada musim tertentu. Musim panas dan gugur cenderung memiliki jumlah penyewaan tertinggi, menunjukkan bahwa kondisi cuaca yang lebih nyaman berkontribusi pada peningkatan penggunaan sepeda\n",
        "- Kecepatan angin memiliki pengaruh negatif terhadap jumlah penyewaan sepeda. Saat kecepatan angin meningkat, jumlah penyewaan cenderung menurun, kemungkinan karena angin kencang membuat pengalaman bersepeda menjadi kurang nyaman atau lebih menantang bagi pengguna"
      ]
    }
  ],
  "metadata": {
    "kernelspec": {
      "display_name": "Python 3",
      "language": "python",
      "name": "python3"
    },
    "language_info": {
      "name": "python",
      "version": "3.8.0 (tags/v3.8.0:fa919fd, Oct 14 2019, 19:21:23) [MSC v.1916 32 bit (Intel)]"
    },
    "orig_nbformat": 4,
    "vscode": {
      "interpreter": {
        "hash": "972b3bf27e332e87b5379f2791f6ef9dfc79c71018c370b0d7423235e20fe4d7"
      }
    },
    "colab": {
      "provenance": [],
      "include_colab_link": true
    }
  },
  "nbformat": 4,
  "nbformat_minor": 0
}